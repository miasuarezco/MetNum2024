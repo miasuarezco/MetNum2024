{
  "nbformat": 4,
  "nbformat_minor": 0,
  "metadata": {
    "colab": {
      "provenance": [],
      "include_colab_link": true
    },
    "kernelspec": {
      "name": "python3",
      "display_name": "Python 3"
    },
    "language_info": {
      "name": "python"
    }
  },
  "cells": [
    {
      "cell_type": "markdown",
      "metadata": {
        "id": "view-in-github",
        "colab_type": "text"
      },
      "source": [
        "<a href=\"https://colab.research.google.com/github/miasuarezco/MetNumUN2024I/blob/main/Quiz9.2/miasuarezco_LABCramer.ipynb\" target=\"_parent\"><img src=\"https://colab.research.google.com/assets/colab-badge.svg\" alt=\"Open In Colab\"/></a>"
      ]
    },
    {
      "cell_type": "markdown",
      "source": [
        "### Cramer by hand\n",
        "\n",
        "$$A = \\left[\n",
        "  \\begin{array}{cc}\n",
        "1 & 2\\\\\n",
        "3 & 4\n",
        "\\end{array}\n",
        "\\right],  \n",
        "b= \\left[\n",
        "\\begin{array}{c}\n",
        "5\\\\\n",
        "6\n",
        "\\end{array}\n",
        "\\right]\n",
        "$$\n",
        "$$\n",
        "Ax =B\n",
        "$$\n",
        "$$  \n",
        "\\left[\n",
        "  \\begin{array}{cc}\n",
        "1 & 2\\\\\n",
        "3 & 4\n",
        "\\end{array}\n",
        "\\right]\n",
        "\\left[\n",
        "\\begin{array}{c}\n",
        "x_1\\\\\n",
        "x_2\n",
        "\\end{array}\n",
        "\\right]  \n",
        "=\n",
        "\\left[\n",
        "\\begin{array}{c}\n",
        "5\\\\\n",
        "6\n",
        "\\end{array}\n",
        "\\right]\n",
        "$$\n",
        "\n",
        "$$Det\\ A =  (1 * 4) - (3 * 2)  = 4 - 6 = -2$$\n",
        "\n",
        "$$A_1 = \\left[\n",
        "  \\begin{array}{cc}\n",
        "5 & 2\\\\\n",
        "6 & 4\n",
        "\\end{array}\n",
        "\\right]\n",
        "$$\n",
        "\n",
        "$$Det\\ A_1 = (5 * 4) - (6 * 2) = 20 - 12 =  8$$\n",
        "\n",
        "$$x_1 =  \\frac{Det\\ A_1}{Det\\ A}= \\frac{8}{-2} =  -4$$\n",
        "\n",
        "$$A_2 = \\left[\n",
        "  \\begin{array}{cc}\n",
        "1 & 5\\\\\n",
        "3 & 6\n",
        "\\end{array}\n",
        "\\right]\n",
        "$$\n",
        "\n",
        "$$Det\\ A_2 = (1*6) - (3*5)  = 6 -15 = -9$$\n",
        "\n",
        "$$x_2 = \\frac{Det\\ A_2}{Det\\ A}= \\frac{-9}{-2} =  \\frac{9}{2}$$"
      ],
      "metadata": {
        "id": "SUmNm2PmfHU7"
      }
    },
    {
      "cell_type": "markdown",
      "source": [
        "- ***Adding a single digit to any number requires about 7.30 bits of processing.*** - World Mental Calculation: News and Resources for Competitive and Advanced Mental Calculation https://worldmentalcalculation.com/2019/06/30/fastest-possible-processing-speed-of-the-human-brain/\n",
        "\n",
        "- ***The human brain can process 11 million bits of information every second. But our conscious minds can handle only 40 to 50 bits of information a second.*** - Understanding Unconscious Bias https://www.npr.org/2020/07/14/891140598/understanding-unconscious-bias\n",
        "\n",
        "- ***A new way to analyze human reaction times shows that the brain processes data no faster than 60 bits per second.***- New Measure of Human Brain Processing Speed https://www.technologyreview.com/2009/08/25/210267/new-measure-of-human-brain-processing-speed/\n",
        "\n",
        "\n"
      ],
      "metadata": {
        "id": "3rH8z64pk2XV"
      }
    },
    {
      "cell_type": "markdown",
      "source": [
        "# Number of operations to compute a determinant by cofactor expasion\n",
        "- Cofactor expansion https://people.math.carleton.ca/~kcheung/math/notes/MATH1107/07/07_cofactor_expansion.html\n",
        "## Definition of A(i∣j)\n",
        "Let $A$ be an $n\\times n$ matrix. Let $i,j \\in \\{1,…,n\\}$. We define $A(i∣j)$  to be the matrix obtained from $A$ by removing row $i$ and column $j$ from $A$.\n",
        "\n",
        "## Cofactor formula\n",
        "One way of computing the determinant of an $n\\times n$  matrix\n",
        "\n",
        "$$A = \\left[\n",
        "  \\begin{array}{cccc}\n",
        "a_{11} & a_{12} & \\cdots & a_{1n}\\\\\n",
        "a_{21} & a_{22} & \\cdots & a_{2n}\\\\\n",
        "\\vdots  & \\vdots & \\ddots & \\vdots\\\\\n",
        "a_{n1} & a_{n2} & \\cdots & a_{nn}\\\\\n",
        "\\end{array}\n",
        "\\right]\n",
        "$$\n",
        "is to use the following formula called the cofactor formula.\n",
        "\n",
        "Pick either any $i\\ \\in \\{1,…,n\\}$ (fixed row) or $i\\ \\in \\{1,…,n\\}$ (fixed column). Then\n",
        "\n",
        "$$\\det(A)  = \\sum_{j=1}^n (-1)^{i+j}a_{ij} \\det(A(i∣j)) $$\n",
        "\n",
        "\n",
        "$C_{i,j}= (-1)^{i+j}a_{ij} \\det(A(i∣j))$ is called a cofactor of $A$.\n",
        "\n",
        "$$\\det(A)  = \\sum_{j=1}^n C_{i,j} $$\n",
        "\n"
      ],
      "metadata": {
        "id": "CgrSIpDOnaGQ"
      }
    },
    {
      "cell_type": "code",
      "source": [
        "# Code from https://stackoverflow.com/questions/16510111/computing-determinant-of-a-matrix-nxn-recursively\n",
        "\n",
        "import numpy as np\n",
        "\n",
        "def smaller_matrix(original_matrix,row, column):\n",
        "    for ii in range(len(original_matrix)):\n",
        "        new_matrix=np.delete(original_matrix,ii,0)\n",
        "        new_matrix=np.delete(new_matrix,column,1)\n",
        "        return new_matrix\n",
        "\n",
        "\n",
        "def determinant(matrix):\n",
        "    \"\"\"Returns a determinant of a matrix by recursive method.\"\"\"\n",
        "    (r,c) = matrix.shape\n",
        "    if r != c:\n",
        "        print(\"Error!Not a square matrix!\")\n",
        "        return None\n",
        "    elif r==2:\n",
        "        simple_determinant = matrix[0][0]*matrix[1][1]-matrix[0][1]*matrix[1][0]\n",
        "        return simple_determinant\n",
        "    else:\n",
        "        answer=0\n",
        "        for j in range(r):\n",
        "            cofactor = (-1)**(0+j) * matrix[0][j] * determinant(smaller_matrix(matrix, 0, j))\n",
        "            answer+= cofactor\n",
        "        return answer"
      ],
      "metadata": {
        "id": "J-joKRBhC7eF"
      },
      "execution_count": null,
      "outputs": []
    },
    {
      "cell_type": "code",
      "source": [
        "#test the function\n",
        "#Only works for numpy.array input\n",
        "np.random.seed(1)"
      ],
      "metadata": {
        "id": "Il2pcRD4DptG"
      },
      "execution_count": null,
      "outputs": []
    },
    {
      "cell_type": "code",
      "source": [
        "n = 2\n",
        "matrix=np.random.randint(-5,5,size=(n,n))\n",
        "matrix"
      ],
      "metadata": {
        "colab": {
          "base_uri": "https://localhost:8080/"
        },
        "id": "AgKC1-aiFRW2",
        "outputId": "ec4f1b58-1258-410e-e998-bbdbf4342ad3"
      },
      "execution_count": null,
      "outputs": [
        {
          "output_type": "execute_result",
          "data": {
            "text/plain": [
              "array([[0, 3],\n",
              "       [4, 0]])"
            ]
          },
          "metadata": {},
          "execution_count": 5
        }
      ]
    },
    {
      "cell_type": "code",
      "source": [
        "determinant(matrix)"
      ],
      "metadata": {
        "colab": {
          "base_uri": "https://localhost:8080/"
        },
        "outputId": "a89164e1-070f-46cc-d8cc-8c47693aa8d6",
        "id": "oI0rUp-SDptH"
      },
      "execution_count": null,
      "outputs": [
        {
          "output_type": "execute_result",
          "data": {
            "text/plain": [
              "-12"
            ]
          },
          "metadata": {},
          "execution_count": 6
        }
      ]
    },
    {
      "cell_type": "code",
      "source": [
        "np.linalg.det(matrix)"
      ],
      "metadata": {
        "colab": {
          "base_uri": "https://localhost:8080/"
        },
        "id": "iqZv7iK-KKXH",
        "outputId": "30b530c2-77e6-47f7-8fe3-7b12d49d9a8e"
      },
      "execution_count": null,
      "outputs": [
        {
          "output_type": "execute_result",
          "data": {
            "text/plain": [
              "-12.0"
            ]
          },
          "metadata": {},
          "execution_count": 7
        }
      ]
    },
    {
      "cell_type": "code",
      "source": [
        "round(np.linalg.det(matrix))"
      ],
      "metadata": {
        "colab": {
          "base_uri": "https://localhost:8080/"
        },
        "id": "sY21rHM-KdlO",
        "outputId": "8f52adcc-123b-42fc-fbf1-adebdf99fee9"
      },
      "execution_count": null,
      "outputs": [
        {
          "output_type": "execute_result",
          "data": {
            "text/plain": [
              "-12"
            ]
          },
          "metadata": {},
          "execution_count": 8
        }
      ]
    },
    {
      "cell_type": "code",
      "source": [
        "n = 5\n",
        "matrix=np.diag(np.random.randint(-10,10,size=(n)))\n",
        "matrix"
      ],
      "metadata": {
        "colab": {
          "base_uri": "https://localhost:8080/"
        },
        "id": "-QXGZWFIDs5k",
        "outputId": "7c72605c-9a65-4495-e563-12b4eb376142"
      },
      "execution_count": null,
      "outputs": [
        {
          "output_type": "execute_result",
          "data": {
            "text/plain": [
              "array([[  5,   0,   0,   0,   0],\n",
              "       [  0, -10,   0,   0,   0],\n",
              "       [  0,   0,   6,   0,   0],\n",
              "       [  0,   0,   0,  -9,   0],\n",
              "       [  0,   0,   0,   0,   2]])"
            ]
          },
          "metadata": {},
          "execution_count": 9
        }
      ]
    },
    {
      "cell_type": "code",
      "source": [
        "determinant(matrix)"
      ],
      "metadata": {
        "colab": {
          "base_uri": "https://localhost:8080/"
        },
        "id": "VP6hRwhwD-3W",
        "outputId": "1437e160-3fb7-4a80-c7bb-5a422fa846a7"
      },
      "execution_count": null,
      "outputs": [
        {
          "output_type": "execute_result",
          "data": {
            "text/plain": [
              "5400"
            ]
          },
          "metadata": {},
          "execution_count": 10
        }
      ]
    },
    {
      "cell_type": "code",
      "source": [
        "np.linalg.det(matrix)"
      ],
      "metadata": {
        "colab": {
          "base_uri": "https://localhost:8080/"
        },
        "id": "8NV7Zvp-KtRz",
        "outputId": "c8014fbb-7a84-4c0d-f0e7-b5cbd7432e14"
      },
      "execution_count": null,
      "outputs": [
        {
          "output_type": "execute_result",
          "data": {
            "text/plain": [
              "5400.000000000003"
            ]
          },
          "metadata": {},
          "execution_count": 11
        }
      ]
    },
    {
      "cell_type": "code",
      "source": [
        "round(np.linalg.det(matrix))"
      ],
      "metadata": {
        "colab": {
          "base_uri": "https://localhost:8080/"
        },
        "id": "HXKK3weLKt5T",
        "outputId": "c8170ac0-3d80-43fe-af02-b9300d53e988"
      },
      "execution_count": null,
      "outputs": [
        {
          "output_type": "execute_result",
          "data": {
            "text/plain": [
              "5400"
            ]
          },
          "metadata": {},
          "execution_count": 12
        }
      ]
    },
    {
      "cell_type": "code",
      "source": [
        "# Modified from the previous code\n",
        "import numpy as np\n",
        "\n",
        "# A a squared numpy matrix\n",
        "def det(A):\n",
        "    \"\"\"Returns a determinant of a matrix by recursive method.\"\"\"\n",
        "    (r,c) = A.shape\n",
        "    if r != c:\n",
        "        print(\"Error!Not a square matrix!\")\n",
        "        return None\n",
        "    elif r==1:\n",
        "          # the code with  r==2 is more efficient but we use this\n",
        "         # because the number of operations is easier to compute\n",
        "        return A[0][0]\n",
        "    else:\n",
        "        answer=0\n",
        "        for j in range(r):\n",
        "            s = 1 if (0+j)%2 == 0 else -1\n",
        "            Aij = np.delete(A,0,0)\n",
        "            Aij = np.delete(Aij,j,1)\n",
        "            cofactor = (s) * A[0][j] * det(Aij)\n",
        "            answer+= cofactor\n",
        "        return answer"
      ],
      "metadata": {
        "id": "B258g8lnBgnG"
      },
      "execution_count": null,
      "outputs": []
    },
    {
      "cell_type": "code",
      "source": [
        "#test the function\n",
        "#Only works for numpy.array input\n",
        "np.random.seed(1)"
      ],
      "metadata": {
        "id": "ZR2mjlqiGdM6"
      },
      "execution_count": null,
      "outputs": []
    },
    {
      "cell_type": "code",
      "source": [
        "n = 2\n",
        "A=np.random.randint(-5,5,size=(n,n))\n",
        "A"
      ],
      "metadata": {
        "colab": {
          "base_uri": "https://localhost:8080/"
        },
        "outputId": "23662a82-fd41-4972-e492-0e17190a04c2",
        "id": "jPpBCFaoGlak"
      },
      "execution_count": null,
      "outputs": [
        {
          "output_type": "execute_result",
          "data": {
            "text/plain": [
              "array([[0, 3],\n",
              "       [4, 0]])"
            ]
          },
          "metadata": {},
          "execution_count": 15
        }
      ]
    },
    {
      "cell_type": "code",
      "source": [
        "det(A)"
      ],
      "metadata": {
        "colab": {
          "base_uri": "https://localhost:8080/"
        },
        "outputId": "5e237863-9b3d-457e-acfd-256568601663",
        "id": "WKbuirZeGlak"
      },
      "execution_count": null,
      "outputs": [
        {
          "output_type": "execute_result",
          "data": {
            "text/plain": [
              "-12"
            ]
          },
          "metadata": {},
          "execution_count": 16
        }
      ]
    },
    {
      "cell_type": "code",
      "source": [
        "determinant(A)"
      ],
      "metadata": {
        "colab": {
          "base_uri": "https://localhost:8080/"
        },
        "id": "_B5xBFirTvQm",
        "outputId": "1e53b6e9-0c6b-4d1f-e009-d682524da926"
      },
      "execution_count": null,
      "outputs": [
        {
          "output_type": "execute_result",
          "data": {
            "text/plain": [
              "-12"
            ]
          },
          "metadata": {},
          "execution_count": 17
        }
      ]
    },
    {
      "cell_type": "code",
      "source": [
        "np.linalg.det(A)"
      ],
      "metadata": {
        "colab": {
          "base_uri": "https://localhost:8080/"
        },
        "outputId": "396e85db-4a6b-49be-fb22-4a972c86e72f",
        "id": "bRyF2dsFLbXC"
      },
      "execution_count": null,
      "outputs": [
        {
          "output_type": "execute_result",
          "data": {
            "text/plain": [
              "-12.0"
            ]
          },
          "metadata": {},
          "execution_count": 18
        }
      ]
    },
    {
      "cell_type": "code",
      "source": [
        "round(np.linalg.det(A))"
      ],
      "metadata": {
        "colab": {
          "base_uri": "https://localhost:8080/"
        },
        "outputId": "4b4c103f-db2a-4e10-8460-b468ff378fb1",
        "id": "sOe1w9FPLbXD"
      },
      "execution_count": null,
      "outputs": [
        {
          "output_type": "execute_result",
          "data": {
            "text/plain": [
              "-12"
            ]
          },
          "metadata": {},
          "execution_count": 19
        }
      ]
    },
    {
      "cell_type": "code",
      "source": [
        "n = 10\n",
        "\n",
        "A=np.random.randint(-10,10,size=(n,n))\n",
        "\n",
        "A"
      ],
      "metadata": {
        "colab": {
          "base_uri": "https://localhost:8080/"
        },
        "outputId": "cf6b9dfe-a419-4a93-acf4-38252a6038e8",
        "id": "jzFX1soHGlak"
      },
      "execution_count": null,
      "outputs": [
        {
          "output_type": "execute_result",
          "data": {
            "text/plain": [
              "array([[  5, -10,   6,  -9,   2,  -3,   3,  -4,   8,  -5],\n",
              "       [  8,   1,   0,   4,   8,  -6,  -1,   7, -10,   3],\n",
              "       [ -1,  -1,  -3,  -9, -10,   7,  -2,   3,   9,   5],\n",
              "       [  0,  -2,  -3,  -7,  -4,   7,  -7,  -6,   7,   1],\n",
              "       [  2,   6,   3,   9,  -1,   8,   5, -10,  -6,   5],\n",
              "       [ -8,  -3,  -2,  -1,  -7,  -3,  -6,  -5,   9,  -4],\n",
              "       [ -2, -10,  -8,   0,   5,   5,  -3,   9,   0,   4],\n",
              "       [-10,  -9,   7,   3,  -7, -10,   3,  -4,  -4,  -8],\n",
              "       [  2,   1,  -3,   3,  -2,   1,   2,   1,  -6,  -3],\n",
              "       [ -3,   3,  -6,   6,   8, -10,   3,   0,   7,  -3]])"
            ]
          },
          "metadata": {},
          "execution_count": 20
        }
      ]
    },
    {
      "cell_type": "code",
      "source": [
        "import time\n",
        "\n",
        "start_time = time.time()\n",
        "d = det(A)\n",
        "end_time = time.time()"
      ],
      "metadata": {
        "id": "I97qAqxGGlak"
      },
      "execution_count": null,
      "outputs": []
    },
    {
      "cell_type": "code",
      "source": [
        "print(\"det(A): \",d)\n",
        "print(\"time: \",end_time - start_time)"
      ],
      "metadata": {
        "colab": {
          "base_uri": "https://localhost:8080/"
        },
        "id": "s7Ud-gBiTD0n",
        "outputId": "f01ebfbb-204e-4e15-ff12-5d6543fc958d"
      },
      "execution_count": null,
      "outputs": [
        {
          "output_type": "stream",
          "name": "stdout",
          "text": [
            "det(A):  29129065307\n",
            "time:  76.044606924057\n"
          ]
        }
      ]
    },
    {
      "cell_type": "code",
      "source": [
        "import time\n",
        "\n",
        "start_time = time.time()\n",
        "d = determinant(A)\n",
        "end_time = time.time()"
      ],
      "metadata": {
        "id": "kjLXFQOeTRd2"
      },
      "execution_count": null,
      "outputs": []
    },
    {
      "cell_type": "code",
      "source": [
        "print(\"determinant(A): \",d)\n",
        "print(\"time: \",end_time - start_time)"
      ],
      "metadata": {
        "colab": {
          "base_uri": "https://localhost:8080/"
        },
        "id": "_TQFWy4ZSiDZ",
        "outputId": "6314f80b-4ed2-4101-a7a0-dfb2ae584662"
      },
      "execution_count": null,
      "outputs": [
        {
          "output_type": "stream",
          "name": "stdout",
          "text": [
            "determinant(A):  29129065307\n",
            "time:  34.84813666343689\n"
          ]
        }
      ]
    },
    {
      "cell_type": "code",
      "source": [
        "import time\n",
        "\n",
        "start_time = time.time()\n",
        "d = np.linalg.det(A)\n",
        "end_time = time.time()"
      ],
      "metadata": {
        "id": "jL23i77VT55-"
      },
      "execution_count": null,
      "outputs": []
    },
    {
      "cell_type": "code",
      "source": [
        "print(\"np.linalg.det(A): \",d)\n",
        "print(\"time: \",end_time - start_time)"
      ],
      "metadata": {
        "colab": {
          "base_uri": "https://localhost:8080/"
        },
        "id": "n94nx14VT5wn",
        "outputId": "9dfca612-86f2-46e7-f7b7-f16df59da30a"
      },
      "execution_count": null,
      "outputs": [
        {
          "output_type": "stream",
          "name": "stdout",
          "text": [
            "np.linalg.det(A):  29129065306.99992\n",
            "time:  0.0002837181091308594\n"
          ]
        }
      ]
    },
    {
      "cell_type": "markdown",
      "source": [
        "# Estimating the time by instruction in Python in a Colab machine"
      ],
      "metadata": {
        "id": "Ssedt2z56DNC"
      }
    },
    {
      "cell_type": "code",
      "source": [
        "import numpy as np\n",
        "\n",
        "n = 100\n",
        "\n",
        "A = np.ones((n,n))\n",
        "\n",
        "A"
      ],
      "metadata": {
        "colab": {
          "base_uri": "https://localhost:8080/"
        },
        "id": "1KhlyeNi4uwa",
        "outputId": "6ba4b9cc-9b53-4d38-d04a-99555b03da6b"
      },
      "execution_count": null,
      "outputs": [
        {
          "output_type": "execute_result",
          "data": {
            "text/plain": [
              "array([[1., 1., 1., ..., 1., 1., 1.],\n",
              "       [1., 1., 1., ..., 1., 1., 1.],\n",
              "       [1., 1., 1., ..., 1., 1., 1.],\n",
              "       ...,\n",
              "       [1., 1., 1., ..., 1., 1., 1.],\n",
              "       [1., 1., 1., ..., 1., 1., 1.],\n",
              "       [1., 1., 1., ..., 1., 1., 1.]])"
            ]
          },
          "metadata": {},
          "execution_count": 27
        }
      ]
    },
    {
      "cell_type": "code",
      "source": [
        "B = np.ones((n,n))\n",
        "\n",
        "B"
      ],
      "metadata": {
        "colab": {
          "base_uri": "https://localhost:8080/"
        },
        "id": "RKtHO3UY5M87",
        "outputId": "e439f3cb-597e-47f6-bbf5-e49708610d50"
      },
      "execution_count": null,
      "outputs": [
        {
          "output_type": "execute_result",
          "data": {
            "text/plain": [
              "array([[1., 1., 1., ..., 1., 1., 1.],\n",
              "       [1., 1., 1., ..., 1., 1., 1.],\n",
              "       [1., 1., 1., ..., 1., 1., 1.],\n",
              "       ...,\n",
              "       [1., 1., 1., ..., 1., 1., 1.],\n",
              "       [1., 1., 1., ..., 1., 1., 1.],\n",
              "       [1., 1., 1., ..., 1., 1., 1.]])"
            ]
          },
          "metadata": {},
          "execution_count": 28
        }
      ]
    },
    {
      "cell_type": "code",
      "source": [
        "import time\n",
        "\n",
        "C= np.zeros((n,n))\n",
        "\n",
        "start_time = time.time()\n",
        "for i in range(n):\n",
        "        for j in range(n):\n",
        "            C[i][j] = 0\n",
        "            for k in range(len(A[0])):\n",
        "                C[i][j] += A[i][k] * B[k][j]\n",
        "end_time = time.time()\n",
        "print(end_time - start_time)"
      ],
      "metadata": {
        "colab": {
          "base_uri": "https://localhost:8080/"
        },
        "id": "0UFSLi-F5P0a",
        "outputId": "0a51a75d-b378-42bc-828f-a40688d83f3f"
      },
      "execution_count": null,
      "outputs": [
        {
          "output_type": "stream",
          "name": "stdout",
          "text": [
            "1.1785359382629395\n"
          ]
        }
      ]
    },
    {
      "cell_type": "code",
      "source": [
        "C"
      ],
      "metadata": {
        "colab": {
          "base_uri": "https://localhost:8080/"
        },
        "id": "h9zr4Z9P61bs",
        "outputId": "f6cfad4e-d494-4fa8-eb26-78908760ff2d"
      },
      "execution_count": null,
      "outputs": [
        {
          "output_type": "execute_result",
          "data": {
            "text/plain": [
              "array([[100., 100., 100., ..., 100., 100., 100.],\n",
              "       [100., 100., 100., ..., 100., 100., 100.],\n",
              "       [100., 100., 100., ..., 100., 100., 100.],\n",
              "       ...,\n",
              "       [100., 100., 100., ..., 100., 100., 100.],\n",
              "       [100., 100., 100., ..., 100., 100., 100.],\n",
              "       [100., 100., 100., ..., 100., 100., 100.]])"
            ]
          },
          "metadata": {},
          "execution_count": 30
        }
      ]
    },
    {
      "cell_type": "code",
      "source": [
        "time_by_oper_python = (end_time - start_time)/(2*n**3 - n**2)\n",
        "\n",
        "time_by_oper_python"
      ],
      "metadata": {
        "colab": {
          "base_uri": "https://localhost:8080/"
        },
        "id": "iEhaMEK77Ko7",
        "outputId": "bfc8f100-f306-42df-8ff4-5ac4e70a5e8b"
      },
      "execution_count": null,
      "outputs": [
        {
          "output_type": "execute_result",
          "data": {
            "text/plain": [
              "5.922291147049947e-07"
            ]
          },
          "metadata": {},
          "execution_count": 31
        }
      ]
    },
    {
      "cell_type": "code",
      "source": [
        "import time\n",
        "import numpy as np\n",
        "\n",
        "start_time = time.time()\n",
        "C = A@B\n",
        "end_time = time.time()\n",
        "print(end_time - start_time)"
      ],
      "metadata": {
        "colab": {
          "base_uri": "https://localhost:8080/"
        },
        "id": "TfGsw6UF9o-a",
        "outputId": "55efefbe-065f-4bd7-da99-a0668e549b0f"
      },
      "execution_count": null,
      "outputs": [
        {
          "output_type": "stream",
          "name": "stdout",
          "text": [
            "0.009143352508544922\n"
          ]
        }
      ]
    },
    {
      "cell_type": "code",
      "source": [
        "C"
      ],
      "metadata": {
        "colab": {
          "base_uri": "https://localhost:8080/"
        },
        "id": "Q5MtZtVT93oQ",
        "outputId": "3164a644-53c4-4684-ba78-37416221ae37"
      },
      "execution_count": null,
      "outputs": [
        {
          "output_type": "execute_result",
          "data": {
            "text/plain": [
              "array([[100., 100., 100., ..., 100., 100., 100.],\n",
              "       [100., 100., 100., ..., 100., 100., 100.],\n",
              "       [100., 100., 100., ..., 100., 100., 100.],\n",
              "       ...,\n",
              "       [100., 100., 100., ..., 100., 100., 100.],\n",
              "       [100., 100., 100., ..., 100., 100., 100.],\n",
              "       [100., 100., 100., ..., 100., 100., 100.]])"
            ]
          },
          "metadata": {},
          "execution_count": 33
        }
      ]
    },
    {
      "cell_type": "code",
      "source": [
        "time_by_oper_numpy = (end_time - start_time)/(2*n**3 - n**2)\n",
        "\n",
        "time_by_oper_numpy"
      ],
      "metadata": {
        "colab": {
          "base_uri": "https://localhost:8080/"
        },
        "id": "DTVYQYxT-TsJ",
        "outputId": "71cbb7d6-18f2-432a-c11c-74ae299af040"
      },
      "execution_count": null,
      "outputs": [
        {
          "output_type": "execute_result",
          "data": {
            "text/plain": [
              "4.594649501781368e-09"
            ]
          },
          "metadata": {},
          "execution_count": 34
        }
      ]
    },
    {
      "cell_type": "markdown",
      "source": [
        "# Time estimation for the digital computer computation of a 3 x 3 matrix determinant by cofactor expansion\n",
        "\n",
        "The number of operations $(+,-,*)$ perfomed  *det(A)* algorithm that calculates\n",
        "\n",
        "$$\\det(A)  = \\sum_{j=1}^n (-1)^{i+j}a_{ij} \\det(A(i∣j)) $$\n",
        "\n",
        "is given by\n",
        "\n",
        "$$\\begin{array}{lll}\n",
        "T(n) & =&  nT(n-1) + 5n , T(1) = 1\\\\\n",
        "\\end{array}\n",
        "$$\n",
        "\n",
        "$$\\begin{array}{lll}\n",
        "T(n) & =&  nT(n-1) + 5n\\\\\n",
        "     & =&  n[(n-1) T(n-2) + 5 (n-1) +10] + 5n  \\\\\n",
        "     & =&  n(n-1) T(n-2) + 5 n  (n-1) + 5n \\\\\n",
        "     & =&  n(n-1) [(n-2) T(n-3) + 5 (n-2)] + 5 n(n-1) + 5n\\\\\n",
        "     & = & n(n-1)(n-2) T(n-3) + 5n(n-1)(n-2)+  5 n  (n-1) + 5n \\\\\n",
        "     & \\vdots\\\\\n",
        "     & = &  n(n-1)(n-2)\\cdots (n -(n-2))  T(1) + [5n(n-1)(n-2)(n-3)\\cdots (n -(n-3))] + \\cdots + [5 n (n-1)]+ 5n \\\\\n",
        "    & = & n! + [5n(n-1)(n-2)(n-3)\\cdots 2] + [5n(n-1)(n-2)(n-3)\\cdots 3]+ \\cdots +[5 n (n-1) (n-3)] + [5 n (n-1)]+ 5n  \n",
        "\\end{array}\n",
        "$$\n",
        "\n",
        "$$T(n) = n! + 5 \\sum_{i=0}^{n-1} n!/i! = n! + 5 n!\\sum_{i=0}^{n-1} \\frac{1}{i!} < n! + 5 e n! < 16 n!  $$\n",
        "\n",
        "1. Asumming that an arithmetic operation takes the *time_by_oper_python* estimated before,  what is the maximun square matrix size for which the deteminant can be computed with cofactor extesion in $\\le$ 3 minute. Report the time at [LABCramer](https://docs.google.com/spreadsheets/d/1JNUbuj3QHcyPmp8i6kNreUFucj2mOvKHkCFHHy7zfws/edit?usp=sharing).\n",
        "\n",
        "2. Run an experiment with a random matrix of that size and report the time at [LABCramer](https://docs.google.com/spreadsheets/d/1JNUbuj3QHcyPmp8i6kNreUFucj2mOvKHkCFHHy7zfws/edit?usp=sharing).\n",
        "\n",
        "If the determinant of a $n \\times n$ square matrix takes $16 n!$ operations how much takes the Crammer solution of $n \\times n$ systems of linear equations?\n",
        "\n",
        "\n",
        "\n",
        "\n"
      ],
      "metadata": {
        "id": "PhAai3wzo_Tc"
      }
    },
    {
      "cell_type": "code",
      "source": [
        "import numpy as np\n",
        "import time\n",
        "import math\n",
        "\n",
        "# se calcula el tiempo por op\n",
        "#t_op_py =(end_time - start_time)/(2*n**3 - n**2)\n",
        "t_op_py= 5.708057077685792e-07\n",
        "target_time = 3 * 60\n",
        "\n",
        "# se calcula el # de op\n",
        "def operations(n):\n",
        "    return 16 * math.factorial(n)\n",
        "\n",
        "# matriz max_size\n",
        "n = 1\n",
        "while operations(n) * t_op_py < target_time:\n",
        "    n += 1\n",
        "max_size = n - 1\n",
        "\n",
        "print(f\"El max. tamaño de la matriz es {max_size}\")\n"
      ],
      "metadata": {
        "colab": {
          "base_uri": "https://localhost:8080/"
        },
        "id": "0kV7bHAXjEG2",
        "outputId": "b3306c3a-f052-4cf4-89be-639a56f1cd26"
      },
      "execution_count": 1,
      "outputs": [
        {
          "output_type": "stream",
          "name": "stdout",
          "text": [
            "El max. tamaño de la matriz es 10\n"
          ]
        }
      ]
    },
    {
      "cell_type": "code",
      "source": [
        "import numpy as np\n",
        "n = max_size\n",
        "\n",
        "matrix = np.random.randint(-10, 10, size=(n, n))\n",
        "print(matrix)"
      ],
      "metadata": {
        "colab": {
          "base_uri": "https://localhost:8080/"
        },
        "id": "30RPIkjRlZDO",
        "outputId": "06a72931-d813-4a43-9d3e-fb6915f191f6"
      },
      "execution_count": null,
      "outputs": [
        {
          "output_type": "stream",
          "name": "stdout",
          "text": [
            "[[  0 -10   2  -9  -1   8   9  -9  -8   2  -3  -8]\n",
            " [  0 -10  -1   8  -4  -8  -3  -3   6   5  -5   7]\n",
            " [  0   6  -5   3   7   8  -9   0 -10  -3 -10   9]\n",
            " [  7   4   3   1  -4   3   5  -1  -8  -3  -5  -6]\n",
            " [ -5  -2   3   7   7   5   3  -2   4   3   6   0]\n",
            " [  3  -7  -8   4   4 -10   1  -7  -9  -8   9   6]\n",
            " [-10   8   0  -2   3  -7 -10  -2   3   8   5  -1]\n",
            " [-10   2   9   7   0   2   5   4   9   9   1  -3]\n",
            " [ -7   5   4   9  -8  -6  -6 -10   9  -7   9  -5]\n",
            " [ -4   5  -3  -5   5   7 -10   0   0  -8  -8   7]\n",
            " [ -6 -10   4   7  -3  -7   7  -4  -1   0   3  -4]\n",
            " [ -4   6   6   8   2  -1 -10   6   9  -1   6   9]]\n"
          ]
        }
      ]
    },
    {
      "cell_type": "code",
      "source": [
        "import time\n",
        "\n",
        "start_time = time.time()\n",
        "d = det(matrix)\n",
        "end_time = time.time()"
      ],
      "metadata": {
        "id": "Jq7YLAGypTE8"
      },
      "execution_count": null,
      "outputs": []
    },
    {
      "cell_type": "code",
      "source": [
        "print(\"det(A): \",d)\n",
        "print(\"time: \",end_time - start_time)"
      ],
      "metadata": {
        "colab": {
          "base_uri": "https://localhost:8080/"
        },
        "id": "I4ZvzXc5p8e8",
        "outputId": "6353c1fd-ae3c-4a57-e719-d84d4ce76dbc"
      },
      "execution_count": null,
      "outputs": [
        {
          "output_type": "stream",
          "name": "stdout",
          "text": [
            "det(A):  24232061452\n",
            "time:  71.970543384552\n"
          ]
        }
      ]
    },
    {
      "cell_type": "markdown",
      "source": [
        "\n",
        "\n",
        "> If the determinant of a  n×n  square matrix takes  16n!  operations how much takes the Crammer solution of  n×n  systems of linear equations?\n",
        "\n",
        "La solución de un sistema de ecuaciones lineales de tamaño ${n×n}$\n",
        " utilizando la regla de Cramer implica calcular el determinante de la matriz del sistema y el determinante de ${n}$ matrices adicionales, cada una de las cuales se obtiene reemplazando una columna de la matriz del sistema con el vector del lado derecho del sistema.\n",
        "Por lo tanto, si el cálculo del determinante de una matriz cuadrada de tamaño ${n×n}$ toma ${16n!}$ operaciones, entonces la solución del sistema de ecuaciones lineales utilizando la regla de Cramer tomará ${16n!(n+1)}$ operaciones.\n"
      ],
      "metadata": {
        "id": "1Q2_AgMR74mR"
      }
    },
    {
      "cell_type": "markdown",
      "source": [
        "# Time estimation for the human computer computation of a 3 x 3 matrix determinant by cofactor expansion\n",
        "\n",
        " Write a 3 x 3 matrix with the first element as your list number Mod 10 and the rest row by row 1,2,3,...9 skipimg the first element, by example if youir list number is 12, your list number Mod 10 is 2 and the matrix is\n",
        "$$A = \\left[\n",
        "  \\begin{array}{ccc}\n",
        "2 & 1 & 3\\\\\n",
        "4 & 5 & 6\\\\\n",
        "7 & 8 & 9\\\\\n",
        "\\end{array}\n",
        "\\right]\n",
        "$$\n",
        "Use a chronometer like http://online-stopwatch.chronme.com/ to estimate the time to compute the determinant by using the procedure in the follo wing exmaple (https://people.math.carleton.ca/~kcheung/math/notes/MATH1107/07/07_cofactor_expansion.html):<br />  \n",
        "Let\n",
        "$$A = \\begin{bmatrix} 1 & 2 & 3\\\\ 4 & 5 & 6\\\\ 7 & 8 & 9 \\end{bmatrix}$$\n",
        "we compute $\\det(A)$ by expanding along row $2$ as <br /> <br />\n",
        "$$\\begin{eqnarray} \\det(A) & = & (-1)^{2+1}A_{2,1}\\det(A(2 \\mid 1)) + (-1)^{2+2}A_{2,2}\\det(A(2 \\mid 2)) + (-1)^{2+3}A_{2,3}\\det(A(2 \\mid 3)) \\\\ & = & -4\\left|\\begin{matrix} 2 & 3 \\\\ 8 & 9\\end{matrix}\\right| + 5\\left|\\begin{matrix} 1 & 3 \\\\ 7 & 9\\end{matrix}\\right| - 6\\left|\\begin{matrix} 1 & 2 \\\\ 7 & 8\\end{matrix}\\right| \\\\ & = & -4(2\\cdot 9 - 3\\cdot 8) + 5(1 \\cdot 9- 3\\cdot 7) - 6(1\\cdot 8 - 2 \\cdot 7) \\\\ & = & 24 - 60 + 36 \\\\ & = & 0 \\end{eqnarray}$$\n",
        "3. Report the time at [LABCramer](https://docs.google.com/spreadsheets/d/1JNUbuj3QHcyPmp8i6kNreUFucj2mOvKHkCFHHy7zfws/edit?usp=sharing)\n",
        "4. Report the value of the determinant at [LABCramer](https://docs.google.com/spreadsheets/d/1JNUbuj3QHcyPmp8i6kNreUFucj2mOvKHkCFHHy7zfws/edit?usp=sharing)\n"
      ],
      "metadata": {
        "id": "__brdhGadAXY"
      }
    },
    {
      "cell_type": "code",
      "source": [
        "import numpy as np\n",
        "import time\n",
        "\n",
        "matrix2 = np.array([[5, 1, 2], [3, 4, 5], [6, 7, 8]])\n"
      ],
      "metadata": {
        "id": "NTVD6FiLYIJi"
      },
      "execution_count": null,
      "outputs": []
    },
    {
      "cell_type": "code",
      "source": [
        "# tiempo y determinante\n",
        "start_time = time.time()\n",
        "d = determinant(matrix2)\n",
        "end_time = time.time()"
      ],
      "metadata": {
        "id": "NwNiGbrItwSG"
      },
      "execution_count": null,
      "outputs": []
    },
    {
      "cell_type": "code",
      "source": [
        "print(\"det(A): \",d)"
      ],
      "metadata": {
        "colab": {
          "base_uri": "https://localhost:8080/"
        },
        "id": "ZqL0EzURv3JT",
        "outputId": "977a367f-a5ab-4801-bb7b-10611d9b4546"
      },
      "execution_count": null,
      "outputs": [
        {
          "output_type": "stream",
          "name": "stdout",
          "text": [
            "det(A):  -15\n"
          ]
        }
      ]
    }
  ]
}